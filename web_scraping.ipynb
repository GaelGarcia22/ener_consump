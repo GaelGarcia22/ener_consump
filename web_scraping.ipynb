{
 "cells": [
  {
   "cell_type": "code",
   "execution_count": 1,
   "metadata": {},
   "outputs": [],
   "source": [
    "import os\n",
    "import re\n",
    "import time\n",
    "from datetime import datetime\n",
    "from selenium import webdriver\n",
    "from selenium.webdriver.common.by import By\n",
    "from selenium.webdriver.common.action_chains import ActionChains\n",
    "from selenium.webdriver.support.ui import WebDriverWait, Select\n",
    "from selenium.webdriver.support import expected_conditions as EC\n",
    "from selenium.common.exceptions import TimeoutException, NoSuchElementException, ElementClickInterceptedException, WebDriverException\n"
   ]
  },
  {
   "cell_type": "code",
   "execution_count": 2,
   "metadata": {},
   "outputs": [
    {
     "name": "stdout",
     "output_type": "stream",
     "text": [
      "Directorio de G.G. encontrado.\n"
     ]
    }
   ],
   "source": [
    "\n",
    "path = \"C:\\\\Users\\\\lgael\\\\OneDrive\\\\Documentos\\\\Acciona\"\n",
    "print(\"Directorio de G.G. encontrado.\")\n",
    "Warning = True\n",
    "url = 'https://xtraders.meteologica.com/'\n",
    "username = \"cacastillot\"\n",
    "password = \"Acciona2024*\"\n",
    "\n",
    "\n"
   ]
  },
  {
   "cell_type": "code",
   "execution_count": 3,
   "metadata": {},
   "outputs": [],
   "source": [
    "def setup_driver(path):\n",
    "\n",
    "    prefs = {'download.default_directory': path}\n",
    "    options = webdriver.ChromeOptions()\n",
    "    options.add_experimental_option('prefs', prefs)\n",
    "    #options.add_argument('--headless') \n",
    "    options.add_argument('--start-maximized')\n",
    "    options.add_argument('--no-sandbox')\n",
    "    options.add_argument('--disable-blink-features=AutomationControlled')\n",
    "    options.add_experimental_option('excludeSwitches', ['enable-automation'])\n",
    "    options.add_experimental_option('prefs', {'credentials_enable_service': False,'profile.password_manager_enabled': False})\n",
    "    try:\n",
    "        driver = webdriver.Chrome(options=options)\n",
    "        return driver\n",
    "    except WebDriverException as e:\n",
    "        print(f\"Error al configurar el driver: {e}\")\n",
    "        return None"
   ]
  },
  {
   "cell_type": "code",
   "execution_count": 4,
   "metadata": {},
   "outputs": [],
   "source": [
    "def login_to_site(driver):\n",
    "    try:\n",
    "        driver.get(url)\n",
    "        WebDriverWait(driver,5).until(EC.presence_of_element_located((By.ID, \"signin\")))\n",
    "        time.sleep(1)\n",
    "\n",
    "        driver.find_element(By.XPATH, \"//*[@id='username']\").send_keys(username)\n",
    "        time.sleep(1)\n",
    "\n",
    "        driver.find_element(By.XPATH, \"//*[@id='password']\").send_keys(password)\n",
    "        time.sleep(1)\n",
    "\n",
    "        driver.find_element(By.XPATH, \"//input[@type='submit' and @value='Login']\").click()\n",
    "\n",
    "        WebDriverWait(driver,5).until(EC.presence_of_element_located((By.XPATH, \"//h1[@class='title' and text()='Production forecast']\")))\n",
    "\n",
    "        print(\"Inicio de sesión exitoso.\")\n",
    "        time.sleep(1)\n",
    "\n",
    "    except TimeoutException:\n",
    "        print(\"Error: No es posible iniciar sesión\")\n",
    "        driver.quit()"
   ]
  },
  {
   "cell_type": "code",
   "execution_count": 5,
   "metadata": {},
   "outputs": [],
   "source": [
    "def wait_for_download(path, timeout=10):\n",
    "\n",
    "    seconds = 0\n",
    "    while not any([filename.endswith(\".xls\") or filename.endswith(\".xlsx\") for filename in os.listdir(path)]):\n",
    "        time.sleep(1)\n",
    "        seconds += 1\n",
    "        # Si se supera el tiempo de espera\n",
    "        if seconds > timeout:\n",
    "            print(\"Descarga del archivo tomó demasiado tiempo.\")\n",
    "            break\n",
    "    print(\"Descarga completada.\")\n",
    "\n",
    "\n",
    "def scroll_and_click(driver, xpath):\n",
    "    element = driver.find_element(By.XPATH, xpath)\n",
    "    driver.execute_script(\"arguments[0].scrollIntoView({block: 'center', inline: 'center'});\", element)\n",
    "    time.sleep(1)\n",
    "    element.click()\n",
    "    time.sleep(1)"
   ]
  }
 ],
 "metadata": {
  "kernelspec": {
   "display_name": "Python 3",
   "language": "python",
   "name": "python3"
  },
  "language_info": {
   "codemirror_mode": {
    "name": "ipython",
    "version": 3
   },
   "file_extension": ".py",
   "mimetype": "text/x-python",
   "name": "python",
   "nbconvert_exporter": "python",
   "pygments_lexer": "ipython3",
   "version": "3.11.5"
  }
 },
 "nbformat": 4,
 "nbformat_minor": 2
}

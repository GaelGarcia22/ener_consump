{
 "cells": [
  {
   "cell_type": "code",
   "execution_count": 1,
   "metadata": {},
   "outputs": [],
   "source": [
    "import os\n",
    "import re\n",
    "import time\n",
    "from datetime import datetime\n",
    "from selenium import webdriver\n",
    "from selenium.webdriver.common.by import By\n",
    "from selenium.webdriver.common.action_chains import ActionChains\n",
    "from selenium.webdriver.support.ui import WebDriverWait, Select\n",
    "from selenium.webdriver.support import expected_conditions as EC\n",
    "from selenium.common.exceptions import TimeoutException, NoSuchElementException, ElementClickInterceptedException, WebDriverException\n"
   ]
  },
  {
   "cell_type": "code",
   "execution_count": 2,
   "metadata": {},
   "outputs": [
    {
     "name": "stdout",
     "output_type": "stream",
     "text": [
      "Directorio de G.G. encontrado.\n"
     ]
    }
   ],
   "source": [
    "\n",
    "path = \"C:\\\\Users\\\\lgael\\\\OneDrive\\\\Documentos\\\\Acciona\"\n",
    "print(\"Directorio de G.G. encontrado.\")\n",
    "Warning = True\n",
    "url = 'https://xtraders.meteologica.com/'\n",
    "username = \"cacastillot\"\n",
    "password = \"Acciona2024*\"\n",
    "\n",
    "\n"
   ]
  },
  {
   "cell_type": "code",
   "execution_count": 3,
   "metadata": {},
   "outputs": [],
   "source": [
    "def setup_driver(path):\n",
    "\n",
    "    prefs = {'download.default_directory': path}\n",
    "    options = webdriver.ChromeOptions()\n",
    "    options.add_experimental_option('prefs', prefs)\n",
    "    #options.add_argument('--headless') \n",
    "    options.add_argument('--start-maximized')\n",
    "    options.add_argument('--no-sandbox')\n",
    "    options.add_argument('--disable-blink-features=AutomationControlled')\n",
    "    options.add_experimental_option('excludeSwitches', ['enable-automation'])\n",
    "    options.add_experimental_option('prefs', {'credentials_enable_service': False,'profile.password_manager_enabled': False})\n",
    "    try:\n",
    "        driver = webdriver.Chrome(options=options)\n",
    "        return driver\n",
    "    except WebDriverException as e:\n",
    "        print(f\"Error al configurar el driver: {e}\")\n",
    "        return None"
   ]
  }
 ],
 "metadata": {
  "kernelspec": {
   "display_name": "Python 3",
   "language": "python",
   "name": "python3"
  },
  "language_info": {
   "codemirror_mode": {
    "name": "ipython",
    "version": 3
   },
   "file_extension": ".py",
   "mimetype": "text/x-python",
   "name": "python",
   "nbconvert_exporter": "python",
   "pygments_lexer": "ipython3",
   "version": "3.11.5"
  }
 },
 "nbformat": 4,
 "nbformat_minor": 2
}
